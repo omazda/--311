{
  "nbformat": 4,
  "nbformat_minor": 0,
  "metadata": {
    "colab": {
      "provenance": []
    },
    "kernelspec": {
      "name": "python3",
      "display_name": "Python 3"
    },
    "language_info": {
      "name": "python"
    }
  },
  "cells": [
    {
      "cell_type": "markdown",
      "source": [
        "# Супер ультра мега решение 1 задания повышенной сложности"
      ],
      "metadata": {
        "id": "4HegCHQ5Akn8"
      }
    },
    {
      "cell_type": "code",
      "execution_count": 6,
      "metadata": {
        "colab": {
          "base_uri": "https://localhost:8080/"
        },
        "id": "VD9aAnkK73Re",
        "outputId": "a4469bba-a15c-4f5b-fee4-89af9122f066"
      },
      "outputs": [
        {
          "name": "stdout",
          "output_type": "stream",
          "text": [
            "3670\n"
          ]
        }
      ],
      "source": [
        "n = int(input())"
      ]
    },
    {
      "cell_type": "code",
      "source": [
        "day = n//3600\n",
        "min = (n - (day  * 3600)) // 60\n",
        "sec = n - day * 3600 - min * 60\n",
        "print(str(day) + \":\" + str(min) + \":\" + str(sec))"
      ],
      "metadata": {
        "colab": {
          "base_uri": "https://localhost:8080/"
        },
        "id": "I0NnGlLc9L1m",
        "outputId": "0f0a8d8e-5a5b-4cfc-dc03-2849b4340cee"
      },
      "execution_count": 7,
      "outputs": [
        {
          "output_type": "stream",
          "name": "stdout",
          "text": [
            "1:1:10\n"
          ]
        }
      ]
    },
    {
      "cell_type": "markdown",
      "source": [
        "# Пока программировал 2 задачу, научился считать"
      ],
      "metadata": {
        "id": "ji-jAIR8Awej"
      }
    },
    {
      "cell_type": "code",
      "source": [
        "n = int(input())"
      ],
      "metadata": {
        "colab": {
          "base_uri": "https://localhost:8080/"
        },
        "id": "XazNPu3lAyGU",
        "outputId": "d1444348-4b29-41bf-e7ed-986aa77a3c2b"
      },
      "execution_count": 10,
      "outputs": [
        {
          "name": "stdout",
          "output_type": "stream",
          "text": [
            "5\n"
          ]
        }
      ]
    },
    {
      "cell_type": "code",
      "source": [
        "print(n + int(str(n) + str(n)) + int(str(n) + str(n) + str(n)))"
      ],
      "metadata": {
        "colab": {
          "base_uri": "https://localhost:8080/"
        },
        "id": "io5mcErhBD0Q",
        "outputId": "7e2831cd-5d96-488c-b9e5-0b0a923c69dd"
      },
      "execution_count": 11,
      "outputs": [
        {
          "output_type": "stream",
          "name": "stdout",
          "text": [
            "615\n"
          ]
        }
      ]
    }
  ]
}