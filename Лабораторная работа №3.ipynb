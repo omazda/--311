{
  "nbformat": 4,
  "nbformat_minor": 0,
  "metadata": {
    "colab": {
      "provenance": []
    },
    "kernelspec": {
      "name": "python3",
      "display_name": "Python 3"
    },
    "language_info": {
      "name": "python"
    }
  },
  "cells": [
    {
      "cell_type": "markdown",
      "source": [
        "# Задание №1"
      ],
      "metadata": {
        "id": "SUbdqQUBB4eE"
      }
    },
    {
      "cell_type": "code",
      "source": [
        "months = [\n",
        "    'Январь', 'Февраль', 'Март', 'Апрель', 'Май', 'Июнь',\n",
        "    'Июль', 'Август', 'Сентябрь', 'Октябрь', 'Ноябрь', 'Декабрь'\n",
        "]\n",
        "print(months[int(input())-1])"
      ],
      "metadata": {
        "colab": {
          "base_uri": "https://localhost:8080/"
        },
        "id": "I9KAvmhmCBA9",
        "outputId": "69a22be5-7d17-4d85-db26-2d3c9126ae8d"
      },
      "execution_count": 10,
      "outputs": [
        {
          "output_type": "stream",
          "name": "stdout",
          "text": [
            "5\n",
            "Май\n"
          ]
        }
      ]
    },
    {
      "cell_type": "markdown",
      "source": [
        "# Задание №2"
      ],
      "metadata": {
        "id": "caKPzpblDASZ"
      }
    },
    {
      "cell_type": "code",
      "source": [
        "n = int(input())\n",
        "if n % 2 == 0:\n",
        "    print(\"Число четное\")\n",
        "else:\n",
        "    print(\"Число нечетное\")"
      ],
      "metadata": {
        "colab": {
          "base_uri": "https://localhost:8080/"
        },
        "id": "HWxegaOpDDFA",
        "outputId": "89864e71-dbef-4a5e-f162-2d77a7c15372"
      },
      "execution_count": 3,
      "outputs": [
        {
          "output_type": "stream",
          "name": "stdout",
          "text": [
            "5\n",
            "Число нечетное\n"
          ]
        }
      ]
    },
    {
      "cell_type": "markdown",
      "source": [
        "# Задание №3"
      ],
      "metadata": {
        "id": "H5I_CZT6Dbyx"
      }
    },
    {
      "cell_type": "code",
      "source": [
        "n = int(input())\n",
        "if(n > 40):\n",
        "    print(\"stonks\")\n",
        "elif(n < 40):\n",
        "    print(\"not stonks\")"
      ],
      "metadata": {
        "colab": {
          "base_uri": "https://localhost:8080/"
        },
        "id": "Q2iPheqgDieU",
        "outputId": "3149ca02-10fa-4bf9-f8fb-113e29181748"
      },
      "execution_count": 4,
      "outputs": [
        {
          "output_type": "stream",
          "name": "stdout",
          "text": [
            "52\n",
            "stonks\n"
          ]
        }
      ]
    },
    {
      "cell_type": "markdown",
      "source": [
        "# Задание №4"
      ],
      "metadata": {
        "id": "4wYqWA2SEKSk"
      }
    },
    {
      "cell_type": "code",
      "source": [
        "def is_year_leap(year):\n",
        "    if (year % 4 == 0 and year % 100 != 0) or (year % 400 == 0):\n",
        "        return True\n",
        "    else:\n",
        "        return False\n",
        "print(is_year_leap(2024))"
      ],
      "metadata": {
        "colab": {
          "base_uri": "https://localhost:8080/"
        },
        "id": "hdRQCRH_EJo3",
        "outputId": "a2291f08-a667-48b2-b82d-5e15b6bcc903"
      },
      "execution_count": 16,
      "outputs": [
        {
          "output_type": "stream",
          "name": "stdout",
          "text": [
            "True\n"
          ]
        }
      ]
    },
    {
      "cell_type": "markdown",
      "source": [
        "# Задание №5"
      ],
      "metadata": {
        "id": "nQF1xlcDEfku"
      }
    },
    {
      "cell_type": "code",
      "source": [
        "def is_prime(n):\n",
        "    if n <= 1:\n",
        "        return False\n",
        "    for i in range(2, int(n**0.5) + 1):\n",
        "        if n % i == 0:\n",
        "            return False\n",
        "    return True\n",
        "print(is_prime(11))"
      ],
      "metadata": {
        "colab": {
          "base_uri": "https://localhost:8080/"
        },
        "id": "l4-rZVn8Eo-Z",
        "outputId": "138cb2cd-ca00-4f8e-96e3-69a49d4ccf11"
      },
      "execution_count": 17,
      "outputs": [
        {
          "output_type": "stream",
          "name": "stdout",
          "text": [
            "True\n"
          ]
        }
      ]
    },
    {
      "cell_type": "markdown",
      "source": [
        "# Задание №6"
      ],
      "metadata": {
        "id": "5jkjaRDeHOY7"
      }
    },
    {
      "cell_type": "code",
      "source": [
        "a = float(input())\n",
        "b = float(input())\n",
        "print(a, b)\n",
        "lower_bound = (-138/2)**1.3\n",
        "upper_bound = (-69/28**5.1)*4\n",
        "if a > b * 3.6 or lower_bound <= b <= upper_bound:\n",
        "    a, b = b, a\n",
        "print(a, b)"
      ],
      "metadata": {
        "colab": {
          "base_uri": "https://localhost:8080/"
        },
        "id": "qsycqW88FgJl",
        "outputId": "aa938e55-8bd3-429e-99b5-543e7a809226"
      },
      "execution_count": 23,
      "outputs": [
        {
          "output_type": "stream",
          "name": "stdout",
          "text": [
            "10.0 2.0\n",
            "2.0 10.0\n"
          ]
        }
      ]
    },
    {
      "cell_type": "markdown",
      "source": [
        "# Задание №7"
      ],
      "metadata": {
        "id": "SCol83BFHSZ0"
      }
    },
    {
      "cell_type": "code",
      "source": [
        "d = list(map(int, input().split()))\n",
        "print(f\"Все числа уникальны: {len(d) == len(set(d))}\")\n",
        "print(f\"Количество четных чисел: {sum(1 for d in d if d % 2 == 0)}\")\n",
        "print(f\"Количество отрицательных чисел: {sum(1 for d in d if d < 0)}\")\n",
        "print(f\"Количество чисел в диапазоне [-256, 1024]: {sum(1 for d in d if -256 <= d <= 1024)}\")"
      ],
      "metadata": {
        "colab": {
          "base_uri": "https://localhost:8080/"
        },
        "id": "xPkDfB4FFzAt",
        "outputId": "adf1a957-158b-4573-9747-679f7dcc1e68"
      },
      "execution_count": 26,
      "outputs": [
        {
          "output_type": "stream",
          "name": "stdout",
          "text": [
            "Все числа уникальны: True\n",
            "Количество четных чисел: 2\n",
            "Количество отрицательных чисел: 0\n",
            "Количество чисел в диапазоне [-256, 1024]: 5\n"
          ]
        }
      ]
    },
    {
      "cell_type": "markdown",
      "source": [
        "# Задание повышенной сложности №1"
      ],
      "metadata": {
        "id": "6oiwWkMHIaug"
      }
    },
    {
      "cell_type": "code",
      "source": [
        "a = 1\n",
        "b = 2\n",
        "c = 3\n",
        "ans = (a**2 + b**3) / ((c+3) * 4)\n",
        "print(ans)\n",
        "if(ans % 2 == 0):\n",
        "    print(\"Число чётное\")\n",
        "else:\n",
        "    print(\"Число нечётное\")"
      ],
      "metadata": {
        "colab": {
          "base_uri": "https://localhost:8080/"
        },
        "id": "tbXVbwcuH5I9",
        "outputId": "2c876096-5c73-4b94-ae77-137b4e89bcba"
      },
      "execution_count": 30,
      "outputs": [
        {
          "output_type": "stream",
          "name": "stdout",
          "text": [
            "0.375\n",
            "Число нечётное\n"
          ]
        }
      ]
    }
  ]
}